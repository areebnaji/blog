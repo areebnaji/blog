{
 "cells": [
  {
   "cell_type": "markdown",
   "metadata": {
    "collapsed": true
   },
   "source": [
    "With the 2015 NBA Draft in the books ([#knickstaps](https://twitter.com/hashtag/knickstaps?src=hash)) I wanted to take a look at some [data](http://www.basketball-reference.com/draft/) from previous drafts and explore it as means of learning some Python and some of its libraries. \n",
    "\n",
    "In this first part we'll be scraping and cleaning data from the 1966 draft (the first year without territorial picks) to the 2014 draft. \n",
    "\n",
    "To scrape the data we want, we will use the `BeautifulSoup` library.  It allows us to search through the HTML of a webpage and extract the information we need.  We'll then take the scraped data and then store it in a `DataFrame` using the `pandas` library."
   ]
  },
  {
   "cell_type": "code",
   "execution_count": 1,
   "metadata": {
    "collapsed": false
   },
   "outputs": [],
   "source": [
    "from urllib.request import urlopen\n",
    "from bs4 import BeautifulSoup\n",
    "import pandas as pd"
   ]
  },
  {
   "cell_type": "markdown",
   "metadata": {},
   "source": [
    "##Scraping the Data\n",
    "Lets get a feel for using `Beautiful Soup` by just scraping the data for the 2014 NBA draft.\n",
    "\n",
    "First we need to get the HTML document we will be scraping.  To do that we will use `urlopen` that we imported from the `urllib.request` library."
   ]
  },
  {
   "cell_type": "code",
   "execution_count": 2,
   "metadata": {
    "collapsed": false
   },
   "outputs": [],
   "source": [
    "# url that we are scraping\n",
    "url = \"http://www.basketball-reference.com/draft/NBA_2014.html\"\n",
    "\n",
    "# this is the html from the given url\n",
    "html = urlopen(url)"
   ]
  },
  {
   "cell_type": "markdown",
   "metadata": {},
   "source": [
    "Now we create a `BeautifulSoup` object by passing through `html` to the `BeautifulSoup()` constructor."
   ]
  },
  {
   "cell_type": "code",
   "execution_count": 3,
   "metadata": {
    "collapsed": true
   },
   "outputs": [],
   "source": [
    "soup = BeautifulSoup(html)"
   ]
  },
  {
   "cell_type": "code",
   "execution_count": 4,
   "metadata": {
    "collapsed": false
   },
   "outputs": [
    {
     "data": {
      "text/plain": [
       "bs4.BeautifulSoup"
      ]
     },
     "execution_count": 4,
     "metadata": {},
     "output_type": "execute_result"
    }
   ],
   "source": [
    "type(soup)  # we see that soup is a BeautifulSoup object"
   ]
  },
  {
   "cell_type": "markdown",
   "metadata": {},
   "source": [
    "###Getting Column Headers\n",
    "\n",
    "First lets grab the information that will become the column headers of our `DataFrame`. That information is found in the content of a table header cell HTML element (which are denoted by the `<th></th>` tags), which is found within a table row element (`<tr></tr>`) of a table header element (`<thead></thead>`) of a table element (`<table></table>`). \n",
    "\n",
    "The HTML structure would look something like this:\n",
    "\n",
    "    <table>\n",
    "        <thead>\n",
    "            <tr>\n",
    "                <th>The text we want is between these HTML tags</th>\n",
    "            </tr>\n",
    "        </thead>\n",
    "    </table>\n",
    "\n",
    "As an example, lets take a look at the table header cell element for the 'Player' column header:\n",
    "\n",
    "    <th data-stat=\"player\" align=\"left\" class=\"tooltip sort_default_asc\">Player</th>\n",
    "    \n",
    "We want to extract the text content (which would be 'Player' in above example) from all elements like one above and store them into a list.  \n",
    "\n",
    "By inspecting the HTML document (in Chrome you do this by right-clinking on the webpage and selecting \"Inspect element\" from the dropdown menu)  we see that the 2nd table row is the one that contains the table headers we want. \n",
    "\n",
    "Using `BeautifulSoup` to get this information is pretty straightfoward. All we have to do is:\n",
    "\n",
    "1. Use the `findAll()` method to find the first 2 rows on the page.\n",
    "    - We pass the element we want as the first argument, in this case`'tr'`\n",
    "    - We set the `limit` parameter to 2 so we only get the first 2 table row elements.\n",
    "    - So we have something like this:\n",
    "            soup.findAll('tr', limit=2)\n",
    "    - The `findAll()` method above returns us a list of `BeautifulSoup Tag` objects.  In this case it returns the `Tag` objects that represent the table rows we wanted.\n",
    "    \n",
    "2. We want the 2nd table row so we have to extract the 2nd element of the list of `Tag` objects, which is done by just indexing the list as follows:\n",
    "            soup.findAll('tr', limit=2)[1]\n",
    "            \n",
    "3. Since the above returns us a `Tag` object we can just call `findAll()` on it to extract the table header cell elements like this:\n",
    "            soup.findAll('tr', limit=2)[1].findAll('th')    \n",
    "            \n",
    "4. Now we have a list of containing the table header cell elements that can iterate through and extract the text we want via the `getText()` method.  Lets extract that text and construct a list of the column headers using [list comprehension](https://docs.python.org/3/tutorial/datastructures.html#list-comprehensions) .  "
   ]
  },
  {
   "cell_type": "code",
   "execution_count": 5,
   "metadata": {
    "collapsed": true
   },
   "outputs": [],
   "source": [
    "column_headers = [th.getText() for th in \n",
    "                  soup.findAll('tr', limit=2)[1].findAll('th')]"
   ]
  },
  {
   "cell_type": "code",
   "execution_count": 6,
   "metadata": {
    "collapsed": false
   },
   "outputs": [
    {
     "data": {
      "text/plain": [
       "['Rk',\n",
       " 'Pk',\n",
       " 'Tm',\n",
       " 'Player',\n",
       " 'College',\n",
       " 'Yrs',\n",
       " 'G',\n",
       " 'MP',\n",
       " 'PTS',\n",
       " 'TRB',\n",
       " 'AST',\n",
       " 'FG%',\n",
       " '3P%',\n",
       " 'FT%',\n",
       " 'MP',\n",
       " 'PTS',\n",
       " 'TRB',\n",
       " 'AST',\n",
       " 'WS',\n",
       " 'WS/48',\n",
       " 'BPM',\n",
       " 'VORP']"
      ]
     },
     "execution_count": 6,
     "metadata": {},
     "output_type": "execute_result"
    }
   ],
   "source": [
    "column_headers # our column headers"
   ]
  },
  {
   "cell_type": "markdown",
   "metadata": {},
   "source": [
    "**NOTE** Some of the column headers (or names or labels) need to be renamed, but we won't be doing that until we scrape the date from 1966 and on."
   ]
  },
  {
   "cell_type": "markdown",
   "metadata": {},
   "source": [
    "###Getting the Data\n",
    "\n",
    "We now need to extract the data from the HTML table and fill up our `DataFrame`.\n",
    "\n",
    "We can follow a similar process to the one we used to exract the header information.\n",
    "\n",
    "In this case the data we want is found in the table row elements after the first two header rows. So lets get the list of table rows as follows:"
   ]
  },
  {
   "cell_type": "code",
   "execution_count": 7,
   "metadata": {
    "collapsed": false
   },
   "outputs": [],
   "source": [
    "data_rows = soup.findAll('tr')[2:]  # skip the first 2 header rows"
   ]
  },
  {
   "cell_type": "code",
   "execution_count": 8,
   "metadata": {
    "collapsed": false,
    "scrolled": true
   },
   "outputs": [
    {
     "data": {
      "text/plain": [
       "list"
      ]
     },
     "execution_count": 8,
     "metadata": {},
     "output_type": "execute_result"
    }
   ],
   "source": [
    "type(data_rows)  # now we have a list of table rows"
   ]
  },
  {
   "cell_type": "markdown",
   "metadata": {},
   "source": [
    "The difference with extracting the the player data versus the column headers is that the the player data is in a 2-dimensional format (or a matrix), so we have to construct a 2-dimensional list.  We can do this using a nested list comprehension"
   ]
  },
  {
   "cell_type": "code",
   "execution_count": 9,
   "metadata": {
    "collapsed": false
   },
   "outputs": [],
   "source": [
    "player_data = [[td.getText() for td in data_rows[i].findAll('td')]\n",
    "            for i in range(len(data_rows))]"
   ]
  },
  {
   "cell_type": "markdown",
   "metadata": {},
   "source": [
    "Lets take a look at what the above does.  \n",
    "\n",
    "The outer for loop\n",
    "\n",
    "    for i in range(len(data_rows))   \n",
    "gets each table row which represents each draft pick.\n",
    "    \n",
    "The for loop in the inner list comprehension \n",
    "\n",
    "    [td.getText() for td in data_rows[i].findAll('td')]    \n",
    "extracts the text from the table data element (`<td></td>`) for each row.  This text represents the column data for each draft pick.\n",
    "\n",
    "You could also construct the above list without a list comprehension:"
   ]
  },
  {
   "cell_type": "code",
   "execution_count": 10,
   "metadata": {
    "collapsed": false
   },
   "outputs": [],
   "source": [
    "player_data_02 = []  # create an empty list to hold all the data\n",
    "\n",
    "for i in range(len(data_rows)):  # for each table row\n",
    "    player_row = []  # create an empty list for each pick/player\n",
    "\n",
    "    # for each table data element from each table row\n",
    "    for td in data_rows[i].findAll('td'):        \n",
    "        # get the text content and append to the player_row \n",
    "        player_row.append(td.getText())        \n",
    "\n",
    "    # then append each pick/player to the player_data matrix\n",
    "    player_data_02.append(player_row)"
   ]
  },
  {
   "cell_type": "markdown",
   "metadata": {},
   "source": [
    "Both `player_data` and `player_data_02` are equivalent."
   ]
  },
  {
   "cell_type": "code",
   "execution_count": 11,
   "metadata": {
    "collapsed": false
   },
   "outputs": [
    {
     "data": {
      "text/plain": [
       "True"
      ]
     },
     "execution_count": 11,
     "metadata": {},
     "output_type": "execute_result"
    }
   ],
   "source": [
    "player_data == player_data_02"
   ]
  },
  {
   "cell_type": "markdown",
   "metadata": {},
   "source": [
    "Now that we have the column labels and the data we can construct a `pandas DataFrame`.\n",
    "\n",
    "We pass in the `player_data` as the first parameter in the `DataFrame` contructor and set the `columns` paramter to `column_headers`."
   ]
  },
  {
   "cell_type": "code",
   "execution_count": 12,
   "metadata": {
    "collapsed": true
   },
   "outputs": [],
   "source": [
    "df = pd.DataFrame(player_data, columns=column_headers)"
   ]
  },
  {
   "cell_type": "code",
   "execution_count": 13,
   "metadata": {
    "collapsed": false
   },
   "outputs": [
    {
     "data": {
      "text/html": [
       "<div>\n",
       "<table border=\"1\" class=\"dataframe\">\n",
       "  <thead>\n",
       "    <tr style=\"text-align: right;\">\n",
       "      <th></th>\n",
       "      <th>Rk</th>\n",
       "      <th>Pk</th>\n",
       "      <th>Tm</th>\n",
       "      <th>Player</th>\n",
       "      <th>College</th>\n",
       "      <th>Yrs</th>\n",
       "      <th>G</th>\n",
       "      <th>MP</th>\n",
       "      <th>PTS</th>\n",
       "      <th>TRB</th>\n",
       "      <th>...</th>\n",
       "      <th>3P%</th>\n",
       "      <th>FT%</th>\n",
       "      <th>MP</th>\n",
       "      <th>PTS</th>\n",
       "      <th>TRB</th>\n",
       "      <th>AST</th>\n",
       "      <th>WS</th>\n",
       "      <th>WS/48</th>\n",
       "      <th>BPM</th>\n",
       "      <th>VORP</th>\n",
       "    </tr>\n",
       "  </thead>\n",
       "  <tbody>\n",
       "    <tr>\n",
       "      <th>0</th>\n",
       "      <td>1</td>\n",
       "      <td>1</td>\n",
       "      <td>CLE</td>\n",
       "      <td>Andrew Wiggins</td>\n",
       "      <td>University of Kansas</td>\n",
       "      <td>1</td>\n",
       "      <td>82</td>\n",
       "      <td>2969</td>\n",
       "      <td>1387</td>\n",
       "      <td>374</td>\n",
       "      <td>...</td>\n",
       "      <td>.310</td>\n",
       "      <td>.760</td>\n",
       "      <td>36.2</td>\n",
       "      <td>16.9</td>\n",
       "      <td>4.6</td>\n",
       "      <td>2.1</td>\n",
       "      <td>2.1</td>\n",
       "      <td>.034</td>\n",
       "      <td>-2.3</td>\n",
       "      <td>-0.2</td>\n",
       "    </tr>\n",
       "    <tr>\n",
       "      <th>1</th>\n",
       "      <td>2</td>\n",
       "      <td>2</td>\n",
       "      <td>MIL</td>\n",
       "      <td>Jabari Parker</td>\n",
       "      <td>Duke University</td>\n",
       "      <td>1</td>\n",
       "      <td>25</td>\n",
       "      <td>738</td>\n",
       "      <td>308</td>\n",
       "      <td>138</td>\n",
       "      <td>...</td>\n",
       "      <td>.250</td>\n",
       "      <td>.697</td>\n",
       "      <td>29.5</td>\n",
       "      <td>12.3</td>\n",
       "      <td>5.5</td>\n",
       "      <td>1.7</td>\n",
       "      <td>1.3</td>\n",
       "      <td>.088</td>\n",
       "      <td>-1.2</td>\n",
       "      <td>0.1</td>\n",
       "    </tr>\n",
       "    <tr>\n",
       "      <th>2</th>\n",
       "      <td>3</td>\n",
       "      <td>3</td>\n",
       "      <td>PHI</td>\n",
       "      <td>Joel Embiid</td>\n",
       "      <td>University of Kansas</td>\n",
       "      <td></td>\n",
       "      <td></td>\n",
       "      <td></td>\n",
       "      <td></td>\n",
       "      <td></td>\n",
       "      <td>...</td>\n",
       "      <td></td>\n",
       "      <td></td>\n",
       "      <td></td>\n",
       "      <td></td>\n",
       "      <td></td>\n",
       "      <td></td>\n",
       "      <td></td>\n",
       "      <td></td>\n",
       "      <td></td>\n",
       "      <td></td>\n",
       "    </tr>\n",
       "    <tr>\n",
       "      <th>3</th>\n",
       "      <td>4</td>\n",
       "      <td>4</td>\n",
       "      <td>ORL</td>\n",
       "      <td>Aaron Gordon</td>\n",
       "      <td>University of Arizona</td>\n",
       "      <td>1</td>\n",
       "      <td>47</td>\n",
       "      <td>797</td>\n",
       "      <td>243</td>\n",
       "      <td>169</td>\n",
       "      <td>...</td>\n",
       "      <td>.271</td>\n",
       "      <td>.721</td>\n",
       "      <td>17.0</td>\n",
       "      <td>5.2</td>\n",
       "      <td>3.6</td>\n",
       "      <td>0.7</td>\n",
       "      <td>1.0</td>\n",
       "      <td>.060</td>\n",
       "      <td>-2.8</td>\n",
       "      <td>-0.2</td>\n",
       "    </tr>\n",
       "    <tr>\n",
       "      <th>4</th>\n",
       "      <td>5</td>\n",
       "      <td>5</td>\n",
       "      <td>UTA</td>\n",
       "      <td>Dante Exum</td>\n",
       "      <td></td>\n",
       "      <td>1</td>\n",
       "      <td>82</td>\n",
       "      <td>1817</td>\n",
       "      <td>393</td>\n",
       "      <td>131</td>\n",
       "      <td>...</td>\n",
       "      <td>.314</td>\n",
       "      <td>.625</td>\n",
       "      <td>22.2</td>\n",
       "      <td>4.8</td>\n",
       "      <td>1.6</td>\n",
       "      <td>2.4</td>\n",
       "      <td>-0.1</td>\n",
       "      <td>-.003</td>\n",
       "      <td>-3.8</td>\n",
       "      <td>-0.8</td>\n",
       "    </tr>\n",
       "  </tbody>\n",
       "</table>\n",
       "<p>5 rows × 22 columns</p>\n",
       "</div>"
      ],
      "text/plain": [
       "  Rk Pk   Tm          Player                College Yrs   G    MP   PTS  TRB  \\\n",
       "0  1  1  CLE  Andrew Wiggins   University of Kansas   1  82  2969  1387  374   \n",
       "1  2  2  MIL   Jabari Parker        Duke University   1  25   738   308  138   \n",
       "2  3  3  PHI     Joel Embiid   University of Kansas                            \n",
       "3  4  4  ORL    Aaron Gordon  University of Arizona   1  47   797   243  169   \n",
       "4  5  5  UTA      Dante Exum                          1  82  1817   393  131   \n",
       "\n",
       "   ...    3P%   FT%    MP   PTS  TRB  AST    WS  WS/48   BPM  VORP  \n",
       "0  ...   .310  .760  36.2  16.9  4.6  2.1   2.1   .034  -2.3  -0.2  \n",
       "1  ...   .250  .697  29.5  12.3  5.5  1.7   1.3   .088  -1.2   0.1  \n",
       "2  ...                                                              \n",
       "3  ...   .271  .721  17.0   5.2  3.6  0.7   1.0   .060  -2.8  -0.2  \n",
       "4  ...   .314  .625  22.2   4.8  1.6  2.4  -0.1  -.003  -3.8  -0.8  \n",
       "\n",
       "[5 rows x 22 columns]"
      ]
     },
     "execution_count": 13,
     "metadata": {},
     "output_type": "execute_result"
    }
   ],
   "source": [
    "df.head()  # head() lets us see the 1st 5 rows of our DataFrame by default"
   ]
  },
  {
   "cell_type": "code",
   "execution_count": 14,
   "metadata": {
    "collapsed": false,
    "scrolled": true
   },
   "outputs": [
    {
     "data": {
      "text/html": [
       "<div>\n",
       "<table border=\"1\" class=\"dataframe\">\n",
       "  <thead>\n",
       "    <tr style=\"text-align: right;\">\n",
       "      <th></th>\n",
       "      <th>Rk</th>\n",
       "      <th>Pk</th>\n",
       "      <th>Tm</th>\n",
       "      <th>Player</th>\n",
       "      <th>College</th>\n",
       "      <th>Yrs</th>\n",
       "      <th>G</th>\n",
       "      <th>MP</th>\n",
       "      <th>PTS</th>\n",
       "      <th>TRB</th>\n",
       "      <th>...</th>\n",
       "      <th>3P%</th>\n",
       "      <th>FT%</th>\n",
       "      <th>MP</th>\n",
       "      <th>PTS</th>\n",
       "      <th>TRB</th>\n",
       "      <th>AST</th>\n",
       "      <th>WS</th>\n",
       "      <th>WS/48</th>\n",
       "      <th>BPM</th>\n",
       "      <th>VORP</th>\n",
       "    </tr>\n",
       "  </thead>\n",
       "  <tbody>\n",
       "    <tr>\n",
       "      <th>0</th>\n",
       "      <td>1</td>\n",
       "      <td>1</td>\n",
       "      <td>CLE</td>\n",
       "      <td>Andrew Wiggins</td>\n",
       "      <td>University of Kansas</td>\n",
       "      <td>1</td>\n",
       "      <td>82</td>\n",
       "      <td>2969</td>\n",
       "      <td>1387</td>\n",
       "      <td>374</td>\n",
       "      <td>...</td>\n",
       "      <td>.310</td>\n",
       "      <td>.760</td>\n",
       "      <td>36.2</td>\n",
       "      <td>16.9</td>\n",
       "      <td>4.6</td>\n",
       "      <td>2.1</td>\n",
       "      <td>2.1</td>\n",
       "      <td>.034</td>\n",
       "      <td>-2.3</td>\n",
       "      <td>-0.2</td>\n",
       "    </tr>\n",
       "    <tr>\n",
       "      <th>1</th>\n",
       "      <td>2</td>\n",
       "      <td>2</td>\n",
       "      <td>MIL</td>\n",
       "      <td>Jabari Parker</td>\n",
       "      <td>Duke University</td>\n",
       "      <td>1</td>\n",
       "      <td>25</td>\n",
       "      <td>738</td>\n",
       "      <td>308</td>\n",
       "      <td>138</td>\n",
       "      <td>...</td>\n",
       "      <td>.250</td>\n",
       "      <td>.697</td>\n",
       "      <td>29.5</td>\n",
       "      <td>12.3</td>\n",
       "      <td>5.5</td>\n",
       "      <td>1.7</td>\n",
       "      <td>1.3</td>\n",
       "      <td>.088</td>\n",
       "      <td>-1.2</td>\n",
       "      <td>0.1</td>\n",
       "    </tr>\n",
       "    <tr>\n",
       "      <th>2</th>\n",
       "      <td>3</td>\n",
       "      <td>3</td>\n",
       "      <td>PHI</td>\n",
       "      <td>Joel Embiid</td>\n",
       "      <td>University of Kansas</td>\n",
       "      <td></td>\n",
       "      <td></td>\n",
       "      <td></td>\n",
       "      <td></td>\n",
       "      <td></td>\n",
       "      <td>...</td>\n",
       "      <td></td>\n",
       "      <td></td>\n",
       "      <td></td>\n",
       "      <td></td>\n",
       "      <td></td>\n",
       "      <td></td>\n",
       "      <td></td>\n",
       "      <td></td>\n",
       "      <td></td>\n",
       "      <td></td>\n",
       "    </tr>\n",
       "  </tbody>\n",
       "</table>\n",
       "<p>3 rows × 22 columns</p>\n",
       "</div>"
      ],
      "text/plain": [
       "  Rk Pk   Tm          Player               College Yrs   G    MP   PTS  TRB  \\\n",
       "0  1  1  CLE  Andrew Wiggins  University of Kansas   1  82  2969  1387  374   \n",
       "1  2  2  MIL   Jabari Parker       Duke University   1  25   738   308  138   \n",
       "2  3  3  PHI     Joel Embiid  University of Kansas                            \n",
       "\n",
       "   ...    3P%   FT%    MP   PTS  TRB  AST   WS WS/48   BPM  VORP  \n",
       "0  ...   .310  .760  36.2  16.9  4.6  2.1  2.1  .034  -2.3  -0.2  \n",
       "1  ...   .250  .697  29.5  12.3  5.5  1.7  1.3  .088  -1.2   0.1  \n",
       "2  ...                                                            \n",
       "\n",
       "[3 rows x 22 columns]"
      ]
     },
     "execution_count": 14,
     "metadata": {},
     "output_type": "execute_result"
    }
   ],
   "source": [
    "df.head(3) # we can change from the default view by passing in an integer"
   ]
  },
  {
   "cell_type": "markdown",
   "metadata": {},
   "source": [
    "##Cleaning the data \n",
    "There are few things we have to do make our data usable:\n",
    "   \n",
    "- Get rid of a couple of rows (that were header rows) that contain only `NoneType` values.\n",
    "\n",
    "- Rename some of the columns\n",
    "\n",
    "- Change the data in each column to their proper data type.\n",
    "\n",
    "- Deal with some more missing values in the form of NaNs.\n",
    "\n",
    "- Add and drop a certain columns.\n",
    "\n",
    "###Getting rid of the rows with missing values\n",
    "Now lets find the rows containing `NoneType` values. To do this we can use `pandas` [boolean indexing](http://pandas.pydata.org/pandas-docs/stable/indexing.html). We can find the the rows we want by calling `isnull()` method (which return `True` if there is a `NoneType` or `NaN`) from the 'Pk' column. If 'Pk' value is missing then there isn't a draft pick in that row so we can get rid of that row. "
   ]
  },
  {
   "cell_type": "code",
   "execution_count": 15,
   "metadata": {
    "collapsed": false
   },
   "outputs": [
    {
     "data": {
      "text/html": [
       "<div>\n",
       "<table border=\"1\" class=\"dataframe\">\n",
       "  <thead>\n",
       "    <tr style=\"text-align: right;\">\n",
       "      <th></th>\n",
       "      <th>Rk</th>\n",
       "      <th>Pk</th>\n",
       "      <th>Tm</th>\n",
       "      <th>Player</th>\n",
       "      <th>College</th>\n",
       "      <th>Yrs</th>\n",
       "      <th>G</th>\n",
       "      <th>MP</th>\n",
       "      <th>PTS</th>\n",
       "      <th>TRB</th>\n",
       "      <th>...</th>\n",
       "      <th>3P%</th>\n",
       "      <th>FT%</th>\n",
       "      <th>MP</th>\n",
       "      <th>PTS</th>\n",
       "      <th>TRB</th>\n",
       "      <th>AST</th>\n",
       "      <th>WS</th>\n",
       "      <th>WS/48</th>\n",
       "      <th>BPM</th>\n",
       "      <th>VORP</th>\n",
       "    </tr>\n",
       "  </thead>\n",
       "  <tbody>\n",
       "    <tr>\n",
       "      <th>30</th>\n",
       "      <td>NaN</td>\n",
       "      <td>NaN</td>\n",
       "      <td>NaN</td>\n",
       "      <td>NaN</td>\n",
       "      <td>NaN</td>\n",
       "      <td>NaN</td>\n",
       "      <td>NaN</td>\n",
       "      <td>NaN</td>\n",
       "      <td>NaN</td>\n",
       "      <td>NaN</td>\n",
       "      <td>...</td>\n",
       "      <td>NaN</td>\n",
       "      <td>NaN</td>\n",
       "      <td>NaN</td>\n",
       "      <td>NaN</td>\n",
       "      <td>NaN</td>\n",
       "      <td>NaN</td>\n",
       "      <td>NaN</td>\n",
       "      <td>NaN</td>\n",
       "      <td>NaN</td>\n",
       "      <td>NaN</td>\n",
       "    </tr>\n",
       "    <tr>\n",
       "      <th>31</th>\n",
       "      <td>NaN</td>\n",
       "      <td>NaN</td>\n",
       "      <td>NaN</td>\n",
       "      <td>NaN</td>\n",
       "      <td>NaN</td>\n",
       "      <td>NaN</td>\n",
       "      <td>NaN</td>\n",
       "      <td>NaN</td>\n",
       "      <td>NaN</td>\n",
       "      <td>NaN</td>\n",
       "      <td>...</td>\n",
       "      <td>NaN</td>\n",
       "      <td>NaN</td>\n",
       "      <td>NaN</td>\n",
       "      <td>NaN</td>\n",
       "      <td>NaN</td>\n",
       "      <td>NaN</td>\n",
       "      <td>NaN</td>\n",
       "      <td>NaN</td>\n",
       "      <td>NaN</td>\n",
       "      <td>NaN</td>\n",
       "    </tr>\n",
       "  </tbody>\n",
       "</table>\n",
       "<p>2 rows × 22 columns</p>\n",
       "</div>"
      ],
      "text/plain": [
       "     Rk   Pk   Tm Player College  Yrs    G   MP  PTS  TRB ...   3P%  FT%   MP  \\\n",
       "30  NaN  NaN  NaN    NaN     NaN  NaN  NaN  NaN  NaN  NaN ...   NaN  NaN  NaN   \n",
       "31  NaN  NaN  NaN    NaN     NaN  NaN  NaN  NaN  NaN  NaN ...   NaN  NaN  NaN   \n",
       "\n",
       "    PTS  TRB  AST   WS WS/48  BPM VORP  \n",
       "30  NaN  NaN  NaN  NaN   NaN  NaN  NaN  \n",
       "31  NaN  NaN  NaN  NaN   NaN  NaN  NaN  \n",
       "\n",
       "[2 rows x 22 columns]"
      ]
     },
     "execution_count": 15,
     "metadata": {},
     "output_type": "execute_result"
    }
   ],
   "source": [
    "# Finding the None rows\n",
    "df[df['Pk'].isnull()]"
   ]
  },
  {
   "cell_type": "markdown",
   "metadata": {},
   "source": [
    "We get rid of those rows by reassigning `df` a subset of itself that doesn't have the above rows.\n",
    "\n",
    "**Note** how we can accese the same column of our DataFrame in different ways.  In the cell below we are accessing the column as an [attribute](http://pandas.pydata.org/pandas-docs/stable/indexing.html#attribute-access)."
   ]
  },
  {
   "cell_type": "code",
   "execution_count": 16,
   "metadata": {
    "collapsed": true
   },
   "outputs": [],
   "source": [
    "df = df[df.Player.notnull()]"
   ]
  },
  {
   "cell_type": "markdown",
   "metadata": {},
   "source": [
    "Now there aren't any rows that are full of missing values."
   ]
  },
  {
   "cell_type": "code",
   "execution_count": 17,
   "metadata": {
    "collapsed": false,
    "scrolled": true
   },
   "outputs": [
    {
     "data": {
      "text/html": [
       "<div>\n",
       "<table border=\"1\" class=\"dataframe\">\n",
       "  <thead>\n",
       "    <tr style=\"text-align: right;\">\n",
       "      <th></th>\n",
       "      <th>Rk</th>\n",
       "      <th>Pk</th>\n",
       "      <th>Tm</th>\n",
       "      <th>Player</th>\n",
       "      <th>College</th>\n",
       "      <th>Yrs</th>\n",
       "      <th>G</th>\n",
       "      <th>MP</th>\n",
       "      <th>PTS</th>\n",
       "      <th>TRB</th>\n",
       "      <th>...</th>\n",
       "      <th>3P%</th>\n",
       "      <th>FT%</th>\n",
       "      <th>MP</th>\n",
       "      <th>PTS</th>\n",
       "      <th>TRB</th>\n",
       "      <th>AST</th>\n",
       "      <th>WS</th>\n",
       "      <th>WS/48</th>\n",
       "      <th>BPM</th>\n",
       "      <th>VORP</th>\n",
       "    </tr>\n",
       "  </thead>\n",
       "  <tbody>\n",
       "  </tbody>\n",
       "</table>\n",
       "<p>0 rows × 22 columns</p>\n",
       "</div>"
      ],
      "text/plain": [
       "Empty DataFrame\n",
       "Columns: [Rk, Pk, Tm, Player, College, Yrs, G, MP, PTS, TRB, AST, FG%, 3P%, FT%, MP, PTS, TRB, AST, WS, WS/48, BPM, VORP]\n",
       "Index: []\n",
       "\n",
       "[0 rows x 22 columns]"
      ]
     },
     "execution_count": 17,
     "metadata": {},
     "output_type": "execute_result"
    }
   ],
   "source": [
    "df[df['Pk'].isnull()]"
   ]
  },
  {
   "cell_type": "markdown",
   "metadata": {},
   "source": [
    "###Renaming the columns \n",
    "\n",
    "We should rename some of the columns since Python is not happy with having '%' or '/' in identifiers.\n",
    "\n",
    "Lets rename the *WS/48* column to *WS_per_48* using the `rename()` method.  We set the `columns` parmeter to a diction with the key being the column we want to rename and the the value being the new name for that column. "
   ]
  },
  {
   "cell_type": "code",
   "execution_count": 18,
   "metadata": {
    "collapsed": true
   },
   "outputs": [],
   "source": [
    "df.rename(columns={'WS/48':'WS_per_48'}, inplace=True)"
   ]
  },
  {
   "cell_type": "markdown",
   "metadata": {},
   "source": [
    "Since there are multiple columns with the '%' character lets use the built-in string method `replace()` to replace '%' with '\\_Perc' for those columns"
   ]
  },
  {
   "cell_type": "code",
   "execution_count": 19,
   "metadata": {
    "collapsed": false
   },
   "outputs": [],
   "source": [
    "# get the column names and replace all '%' with '_Perc'\n",
    "df.columns = df.columns.str.replace('%', '_Perc')"
   ]
  },
  {
   "cell_type": "markdown",
   "metadata": {},
   "source": [
    "We also need to differentiate between per game stats and total cumulative career stats.  For example, we have two *MP* columns, one is the career total minutes played by that player and the other is his per game average. \n",
    "\n",
    "To do this we can append '\\_per\\_G' to the per game stats using a list comprehension. "
   ]
  },
  {
   "cell_type": "code",
   "execution_count": 20,
   "metadata": {
    "collapsed": false
   },
   "outputs": [],
   "source": [
    "# Get the columns we want by slicing the list of column names\n",
    "# and then replace them with the appended names\n",
    "df.columns.values[14:18] = [df.columns.values[14:18][col] + \n",
    "                                  \"_per_G\" for col in range(4)]"
   ]
  },
  {
   "cell_type": "code",
   "execution_count": 21,
   "metadata": {
    "collapsed": false,
    "scrolled": true
   },
   "outputs": [
    {
     "name": "stdout",
     "output_type": "stream",
     "text": [
      "Index(['Rk', 'Pk', 'Tm', 'Player', 'College', 'Yrs', 'G', 'MP', 'PTS', 'TRB',\n",
      "       'AST', 'FG_Perc', '3P_Perc', 'FT_Perc', 'MP_per_G', 'PTS_per_G',\n",
      "       'TRB_per_G', 'AST_per_G', 'WS', 'WS_per_48', 'BPM', 'VORP'],\n",
      "      dtype='object')\n"
     ]
    }
   ],
   "source": [
    "print(df.columns)"
   ]
  },
  {
   "cell_type": "markdown",
   "metadata": {},
   "source": [
    "###Change Data to Proper Data Type"
   ]
  },
  {
   "cell_type": "code",
   "execution_count": 22,
   "metadata": {
    "collapsed": false,
    "scrolled": true
   },
   "outputs": [
    {
     "data": {
      "text/plain": [
       "Rk           object\n",
       "Pk           object\n",
       "Tm           object\n",
       "Player       object\n",
       "College      object\n",
       "Yrs          object\n",
       "G            object\n",
       "MP           object\n",
       "PTS          object\n",
       "TRB          object\n",
       "AST          object\n",
       "FG_Perc      object\n",
       "3P_Perc      object\n",
       "FT_Perc      object\n",
       "MP_per_G     object\n",
       "PTS_per_G    object\n",
       "TRB_per_G    object\n",
       "AST_per_G    object\n",
       "WS           object\n",
       "WS_per_48    object\n",
       "BPM          object\n",
       "VORP         object\n",
       "dtype: object"
      ]
     },
     "execution_count": 22,
     "metadata": {},
     "output_type": "execute_result"
    }
   ],
   "source": [
    "df.dtypes  # Take a look at data typse in each column"
   ]
  },
  {
   "cell_type": "markdown",
   "metadata": {},
   "source": [
    "We can see that our `DataFrame` consists of alot columns with data type `object`.  We can call on the `DataFrame` method `convert_objects()` and pass in the parameter `convert_numeric=True` to convert the columns with numerical strings to the most suitable numeric data type. "
   ]
  },
  {
   "cell_type": "code",
   "execution_count": 23,
   "metadata": {
    "collapsed": false,
    "scrolled": true
   },
   "outputs": [
    {
     "data": {
      "text/plain": [
       "Rk             int64\n",
       "Pk             int64\n",
       "Tm            object\n",
       "Player        object\n",
       "College       object\n",
       "Yrs          float64\n",
       "G            float64\n",
       "MP           float64\n",
       "PTS          float64\n",
       "TRB          float64\n",
       "AST          float64\n",
       "FG_Perc      float64\n",
       "3P_Perc      float64\n",
       "FT_Perc      float64\n",
       "MP_per_G     float64\n",
       "PTS_per_G    float64\n",
       "TRB_per_G    float64\n",
       "AST_per_G    float64\n",
       "WS           float64\n",
       "WS_per_48    float64\n",
       "BPM          float64\n",
       "VORP         float64\n",
       "dtype: object"
      ]
     },
     "execution_count": 23,
     "metadata": {},
     "output_type": "execute_result"
    }
   ],
   "source": [
    "df = df.convert_objects(convert_numeric=True)\n",
    "df.dtypes"
   ]
  },
  {
   "cell_type": "markdown",
   "metadata": {},
   "source": [
    "Not everything is exactly as we want it to be.  We should convert the columns  *Yrs, G, MP, PTS, TRB,* and *AST* to integers using `astype()`.  But before we can do that we need to deal with some `NaN`s (Not a Number) or else we will get an error like this:\n",
    "\n",
    "    ValueError: Cannot convert NA\n",
    "###Dealing with the NaN values \n",
    "\n",
    "The `NaN`s in our data indicate that a player has not played in the NBA.  We should replace these `NaN`s with 0s to indicate that the player has not accumulated any stats.\n",
    "\n",
    "To replace `NaN` values with 0s we just pass in the value 0 into the `fillna()`."
   ]
  },
  {
   "cell_type": "code",
   "execution_count": 24,
   "metadata": {
    "collapsed": true
   },
   "outputs": [],
   "source": [
    "df = df[:].fillna(0) # index all the columns and fill in the 0s"
   ]
  },
  {
   "cell_type": "markdown",
   "metadata": {},
   "source": [
    "Now that there are no more missing values in our data we can call `astype()`.\n",
    "\n",
    "To get the columns we will convert we can use `loc`, which allows us to access the rows and columns of our `DataFrame` by using their labels.  Using `loc` we can slice consecutive rows or columns in a similar mannner that we slice `lists`, except the slice ranges in `.loc` are inclusive on both ends of the indicated slice.\n",
    "\n",
    "The typical format for slicing with `loc` is as follows:\n",
    "\n",
    "    df.loc[first_row_label:last_row_label , first_col_label:last_col_label]\n",
    "    \n",
    "(Read more about indexing `pandas DataFrames` [here)](http://pandas.pydata.org/pandas-docs/stable/indexing.html)\n",
    "\n",
    "Since the columns  *Yrs, G, MP, PTS, TRB,* and *AST* are consecutive columns we can retrieve them by slicing our `DataFrame` using `loc` and then convert their data type."
   ]
  },
  {
   "cell_type": "code",
   "execution_count": 25,
   "metadata": {
    "collapsed": false
   },
   "outputs": [],
   "source": [
    "df.loc[:,'Yrs':'AST'] = df.loc[:,'Yrs':'AST'].astype(int)"
   ]
  },
  {
   "cell_type": "code",
   "execution_count": 26,
   "metadata": {
    "collapsed": false,
    "scrolled": false
   },
   "outputs": [
    {
     "data": {
      "text/html": [
       "<div>\n",
       "<table border=\"1\" class=\"dataframe\">\n",
       "  <thead>\n",
       "    <tr style=\"text-align: right;\">\n",
       "      <th></th>\n",
       "      <th>Rk</th>\n",
       "      <th>Pk</th>\n",
       "      <th>Tm</th>\n",
       "      <th>Player</th>\n",
       "      <th>College</th>\n",
       "      <th>Yrs</th>\n",
       "      <th>G</th>\n",
       "      <th>MP</th>\n",
       "      <th>PTS</th>\n",
       "      <th>TRB</th>\n",
       "      <th>...</th>\n",
       "      <th>3P_Perc</th>\n",
       "      <th>FT_Perc</th>\n",
       "      <th>MP_per_G</th>\n",
       "      <th>PTS_per_G</th>\n",
       "      <th>TRB_per_G</th>\n",
       "      <th>AST_per_G</th>\n",
       "      <th>WS</th>\n",
       "      <th>WS_per_48</th>\n",
       "      <th>BPM</th>\n",
       "      <th>VORP</th>\n",
       "    </tr>\n",
       "  </thead>\n",
       "  <tbody>\n",
       "    <tr>\n",
       "      <th>0</th>\n",
       "      <td>1</td>\n",
       "      <td>1</td>\n",
       "      <td>CLE</td>\n",
       "      <td>Andrew Wiggins</td>\n",
       "      <td>University of Kansas</td>\n",
       "      <td>1</td>\n",
       "      <td>82</td>\n",
       "      <td>2969</td>\n",
       "      <td>1387</td>\n",
       "      <td>374</td>\n",
       "      <td>...</td>\n",
       "      <td>0.310</td>\n",
       "      <td>0.760</td>\n",
       "      <td>36.2</td>\n",
       "      <td>16.9</td>\n",
       "      <td>4.6</td>\n",
       "      <td>2.1</td>\n",
       "      <td>2.1</td>\n",
       "      <td>0.034</td>\n",
       "      <td>-2.3</td>\n",
       "      <td>-0.2</td>\n",
       "    </tr>\n",
       "    <tr>\n",
       "      <th>1</th>\n",
       "      <td>2</td>\n",
       "      <td>2</td>\n",
       "      <td>MIL</td>\n",
       "      <td>Jabari Parker</td>\n",
       "      <td>Duke University</td>\n",
       "      <td>1</td>\n",
       "      <td>25</td>\n",
       "      <td>738</td>\n",
       "      <td>308</td>\n",
       "      <td>138</td>\n",
       "      <td>...</td>\n",
       "      <td>0.250</td>\n",
       "      <td>0.697</td>\n",
       "      <td>29.5</td>\n",
       "      <td>12.3</td>\n",
       "      <td>5.5</td>\n",
       "      <td>1.7</td>\n",
       "      <td>1.3</td>\n",
       "      <td>0.088</td>\n",
       "      <td>-1.2</td>\n",
       "      <td>0.1</td>\n",
       "    </tr>\n",
       "    <tr>\n",
       "      <th>2</th>\n",
       "      <td>3</td>\n",
       "      <td>3</td>\n",
       "      <td>PHI</td>\n",
       "      <td>Joel Embiid</td>\n",
       "      <td>University of Kansas</td>\n",
       "      <td>0</td>\n",
       "      <td>0</td>\n",
       "      <td>0</td>\n",
       "      <td>0</td>\n",
       "      <td>0</td>\n",
       "      <td>...</td>\n",
       "      <td>0.000</td>\n",
       "      <td>0.000</td>\n",
       "      <td>0.0</td>\n",
       "      <td>0.0</td>\n",
       "      <td>0.0</td>\n",
       "      <td>0.0</td>\n",
       "      <td>0.0</td>\n",
       "      <td>0.000</td>\n",
       "      <td>0.0</td>\n",
       "      <td>0.0</td>\n",
       "    </tr>\n",
       "    <tr>\n",
       "      <th>3</th>\n",
       "      <td>4</td>\n",
       "      <td>4</td>\n",
       "      <td>ORL</td>\n",
       "      <td>Aaron Gordon</td>\n",
       "      <td>University of Arizona</td>\n",
       "      <td>1</td>\n",
       "      <td>47</td>\n",
       "      <td>797</td>\n",
       "      <td>243</td>\n",
       "      <td>169</td>\n",
       "      <td>...</td>\n",
       "      <td>0.271</td>\n",
       "      <td>0.721</td>\n",
       "      <td>17.0</td>\n",
       "      <td>5.2</td>\n",
       "      <td>3.6</td>\n",
       "      <td>0.7</td>\n",
       "      <td>1.0</td>\n",
       "      <td>0.060</td>\n",
       "      <td>-2.8</td>\n",
       "      <td>-0.2</td>\n",
       "    </tr>\n",
       "    <tr>\n",
       "      <th>4</th>\n",
       "      <td>5</td>\n",
       "      <td>5</td>\n",
       "      <td>UTA</td>\n",
       "      <td>Dante Exum</td>\n",
       "      <td></td>\n",
       "      <td>1</td>\n",
       "      <td>82</td>\n",
       "      <td>1817</td>\n",
       "      <td>393</td>\n",
       "      <td>131</td>\n",
       "      <td>...</td>\n",
       "      <td>0.314</td>\n",
       "      <td>0.625</td>\n",
       "      <td>22.2</td>\n",
       "      <td>4.8</td>\n",
       "      <td>1.6</td>\n",
       "      <td>2.4</td>\n",
       "      <td>-0.1</td>\n",
       "      <td>-0.003</td>\n",
       "      <td>-3.8</td>\n",
       "      <td>-0.8</td>\n",
       "    </tr>\n",
       "  </tbody>\n",
       "</table>\n",
       "<p>5 rows × 22 columns</p>\n",
       "</div>"
      ],
      "text/plain": [
       "   Rk  Pk   Tm          Player                College  Yrs   G    MP   PTS  \\\n",
       "0   1   1  CLE  Andrew Wiggins   University of Kansas    1  82  2969  1387   \n",
       "1   2   2  MIL   Jabari Parker        Duke University    1  25   738   308   \n",
       "2   3   3  PHI     Joel Embiid   University of Kansas    0   0     0     0   \n",
       "3   4   4  ORL    Aaron Gordon  University of Arizona    1  47   797   243   \n",
       "4   5   5  UTA      Dante Exum                           1  82  1817   393   \n",
       "\n",
       "   TRB  ...   3P_Perc  FT_Perc  MP_per_G  PTS_per_G  TRB_per_G  AST_per_G  \\\n",
       "0  374  ...     0.310    0.760      36.2       16.9        4.6        2.1   \n",
       "1  138  ...     0.250    0.697      29.5       12.3        5.5        1.7   \n",
       "2    0  ...     0.000    0.000       0.0        0.0        0.0        0.0   \n",
       "3  169  ...     0.271    0.721      17.0        5.2        3.6        0.7   \n",
       "4  131  ...     0.314    0.625      22.2        4.8        1.6        2.4   \n",
       "\n",
       "    WS  WS_per_48  BPM  VORP  \n",
       "0  2.1      0.034 -2.3  -0.2  \n",
       "1  1.3      0.088 -1.2   0.1  \n",
       "2  0.0      0.000  0.0   0.0  \n",
       "3  1.0      0.060 -2.8  -0.2  \n",
       "4 -0.1     -0.003 -3.8  -0.8  \n",
       "\n",
       "[5 rows x 22 columns]"
      ]
     },
     "execution_count": 26,
     "metadata": {},
     "output_type": "execute_result"
    }
   ],
   "source": [
    "df.head() # All NaNs are now replaced with 0s"
   ]
  },
  {
   "cell_type": "code",
   "execution_count": 27,
   "metadata": {
    "collapsed": false
   },
   "outputs": [
    {
     "data": {
      "text/plain": [
       "Rk             int64\n",
       "Pk             int64\n",
       "Tm            object\n",
       "Player        object\n",
       "College       object\n",
       "Yrs            int64\n",
       "G              int64\n",
       "MP             int64\n",
       "PTS            int64\n",
       "TRB            int64\n",
       "AST            int64\n",
       "FG_Perc      float64\n",
       "3P_Perc      float64\n",
       "FT_Perc      float64\n",
       "MP_per_G     float64\n",
       "PTS_per_G    float64\n",
       "TRB_per_G    float64\n",
       "AST_per_G    float64\n",
       "WS           float64\n",
       "WS_per_48    float64\n",
       "BPM          float64\n",
       "VORP         float64\n",
       "dtype: object"
      ]
     },
     "execution_count": 27,
     "metadata": {},
     "output_type": "execute_result"
    }
   ],
   "source": [
    "df.dtypes # and we have the datatyps we want"
   ]
  },
  {
   "cell_type": "markdown",
   "metadata": {},
   "source": [
    "###Adding and Deleting Columns\n",
    "Now lets finally add a *Draft_Yr* column to indicate the draft class year.  We do this by using the `insert()` method.  The first parameter is where we are inserting the column.  The second parameter we pass in is the name of the column.  The third parameter is the value(s) for that column"
   ]
  },
  {
   "cell_type": "code",
   "execution_count": 28,
   "metadata": {
    "collapsed": false,
    "scrolled": false
   },
   "outputs": [],
   "source": [
    "df.insert(0, 'Draft_Yr', 2014)  "
   ]
  },
  {
   "cell_type": "markdown",
   "metadata": {},
   "source": [
    "Now to delete the *Rk* column as it is redundant since we have the *Pk* column. To delete a column we use the `drop()` method.  We pass in the name of the column we want to delete, the axis we are deleting along, and set `inplace` to `True` so that the changes occur inplace and we don't have to reassign the df to itself."
   ]
  },
  {
   "cell_type": "code",
   "execution_count": 29,
   "metadata": {
    "collapsed": false,
    "scrolled": true
   },
   "outputs": [],
   "source": [
    "df.drop('Rk', axis='columns', inplace=True)"
   ]
  },
  {
   "cell_type": "code",
   "execution_count": 30,
   "metadata": {
    "collapsed": false,
    "scrolled": false
   },
   "outputs": [
    {
     "data": {
      "text/plain": [
       "Index(['Draft_Yr', 'Pk', 'Tm', 'Player', 'College', 'Yrs', 'G', 'MP', 'PTS',\n",
       "       'TRB', 'AST', 'FG_Perc', '3P_Perc', 'FT_Perc', 'MP_per_G', 'PTS_per_G',\n",
       "       'TRB_per_G', 'AST_per_G', 'WS', 'WS_per_48', 'BPM', 'VORP'],\n",
       "      dtype='object')"
      ]
     },
     "execution_count": 30,
     "metadata": {},
     "output_type": "execute_result"
    }
   ],
   "source": [
    "df.columns # checkout our revised columns"
   ]
  },
  {
   "cell_type": "markdown",
   "metadata": {},
   "source": [
    "##Scraping and Cleaning Data for Drafts from 1966\n",
    "Scraping and cleaning the data from all previous drafts follows a similar procedure to the one we used for the 2014 draft. The main difference is that we have to to do it multiple times and then combine the data into one large `DataFrame` .\n",
    "\n",
    "###Scraping\n",
    "First lets create a URL template that will allow us to access the web page for each year."
   ]
  },
  {
   "cell_type": "code",
   "execution_count": 31,
   "metadata": {
    "collapsed": true
   },
   "outputs": [],
   "source": [
    "url_template = \"http://www.basketball-reference.com/draft/NBA_{year}.html\""
   ]
  },
  {
   "cell_type": "code",
   "execution_count": 32,
   "metadata": {
    "collapsed": true
   },
   "outputs": [],
   "source": [
    "# create an empty DataFrame\n",
    "draft_df = pd.DataFrame()"
   ]
  },
  {
   "cell_type": "markdown",
   "metadata": {},
   "source": [
    "Now we are going to create a `for` loop to scrape and append our data to our big  `DataFrame`.  It does take a bit to get all the data."
   ]
  },
  {
   "cell_type": "code",
   "execution_count": 33,
   "metadata": {
    "collapsed": false
   },
   "outputs": [],
   "source": [
    "for year in range(1966, 2015):  # for each year\n",
    "    url = url_template.format(year=year)  # get the url\n",
    "    \n",
    "    html = urlopen(url)  # get the html\n",
    "    soup = BeautifulSoup(html, 'html5lib') # create our BS object\n",
    "    \n",
    "\n",
    "    # get our player data\n",
    "    data_rows = soup.findAll('tr')[2:] \n",
    "    player_data = [[td.getText() for td in data_rows[i].findAll('td')]\n",
    "                for i in range(len(data_rows))]\n",
    "    \n",
    "    # Turn yearly data into a DatFrame\n",
    "    year_df = pd.DataFrame(player_data, columns=column_headers)\n",
    "    # create and insert the Draft_Yr column\n",
    "    year_df.insert(0, 'Draft_Yr', year)\n",
    "    \n",
    "    # Append to the big dataframe\n",
    "    draft_df = draft_df.append(year_df, ignore_index=True)"
   ]
  },
  {
   "cell_type": "markdown",
   "metadata": {},
   "source": [
    "**NOTE:** I had to pass `html5lib` as an extra argument into the `BeautifulSoup` contructor. `html5lib` is a third-party Python parser that Beautiful Soup can use. The reason I had to do this was because my default parser (`lxml`, another thrid party parser) was not extracting all of the table rows for some of the years.\n",
    "\n",
    "For more about parsers and Beautiful Soup check out the\n",
    "[documentation](http://www.crummy.com/software/BeautifulSoup/bs4/doc/#installing-a-parser)\n",
    "\n",
    "Lets take a look at the first and last few rows of our data"
   ]
  },
  {
   "cell_type": "code",
   "execution_count": 34,
   "metadata": {
    "collapsed": false,
    "scrolled": true
   },
   "outputs": [
    {
     "data": {
      "text/html": [
       "<div>\n",
       "<table border=\"1\" class=\"dataframe\">\n",
       "  <thead>\n",
       "    <tr style=\"text-align: right;\">\n",
       "      <th></th>\n",
       "      <th>Draft_Yr</th>\n",
       "      <th>Rk</th>\n",
       "      <th>Pk</th>\n",
       "      <th>Tm</th>\n",
       "      <th>Player</th>\n",
       "      <th>College</th>\n",
       "      <th>Yrs</th>\n",
       "      <th>G</th>\n",
       "      <th>MP</th>\n",
       "      <th>PTS</th>\n",
       "      <th>...</th>\n",
       "      <th>3P%</th>\n",
       "      <th>FT%</th>\n",
       "      <th>MP</th>\n",
       "      <th>PTS</th>\n",
       "      <th>TRB</th>\n",
       "      <th>AST</th>\n",
       "      <th>WS</th>\n",
       "      <th>WS/48</th>\n",
       "      <th>BPM</th>\n",
       "      <th>VORP</th>\n",
       "    </tr>\n",
       "  </thead>\n",
       "  <tbody>\n",
       "    <tr>\n",
       "      <th>0</th>\n",
       "      <td>1966</td>\n",
       "      <td>1</td>\n",
       "      <td>1</td>\n",
       "      <td>NYK</td>\n",
       "      <td>Cazzie Russell</td>\n",
       "      <td>University of Michigan</td>\n",
       "      <td>12</td>\n",
       "      <td>817</td>\n",
       "      <td>22213</td>\n",
       "      <td>12377</td>\n",
       "      <td>...</td>\n",
       "      <td></td>\n",
       "      <td>.827</td>\n",
       "      <td>27.2</td>\n",
       "      <td>15.1</td>\n",
       "      <td>3.8</td>\n",
       "      <td>2.2</td>\n",
       "      <td>51.7</td>\n",
       "      <td>.112</td>\n",
       "      <td>-2.0</td>\n",
       "      <td>0.1</td>\n",
       "    </tr>\n",
       "    <tr>\n",
       "      <th>1</th>\n",
       "      <td>1966</td>\n",
       "      <td>2</td>\n",
       "      <td>2</td>\n",
       "      <td>DET</td>\n",
       "      <td>Dave Bing</td>\n",
       "      <td>Syracuse University</td>\n",
       "      <td>12</td>\n",
       "      <td>901</td>\n",
       "      <td>32769</td>\n",
       "      <td>18327</td>\n",
       "      <td>...</td>\n",
       "      <td></td>\n",
       "      <td>.775</td>\n",
       "      <td>36.4</td>\n",
       "      <td>20.3</td>\n",
       "      <td>3.8</td>\n",
       "      <td>6.0</td>\n",
       "      <td>68.8</td>\n",
       "      <td>.101</td>\n",
       "      <td>0.6</td>\n",
       "      <td>8.5</td>\n",
       "    </tr>\n",
       "    <tr>\n",
       "      <th>2</th>\n",
       "      <td>1966</td>\n",
       "      <td>3</td>\n",
       "      <td>3</td>\n",
       "      <td>SFW</td>\n",
       "      <td>Clyde Lee</td>\n",
       "      <td>Vanderbilt University</td>\n",
       "      <td>10</td>\n",
       "      <td>742</td>\n",
       "      <td>19885</td>\n",
       "      <td>5733</td>\n",
       "      <td>...</td>\n",
       "      <td></td>\n",
       "      <td>.614</td>\n",
       "      <td>26.8</td>\n",
       "      <td>7.7</td>\n",
       "      <td>10.3</td>\n",
       "      <td>1.1</td>\n",
       "      <td>33.5</td>\n",
       "      <td>.081</td>\n",
       "      <td>-2.4</td>\n",
       "      <td>-0.6</td>\n",
       "    </tr>\n",
       "    <tr>\n",
       "      <th>3</th>\n",
       "      <td>1966</td>\n",
       "      <td>4</td>\n",
       "      <td>4</td>\n",
       "      <td>STL</td>\n",
       "      <td>Lou Hudson</td>\n",
       "      <td>University of Minnesota</td>\n",
       "      <td>13</td>\n",
       "      <td>890</td>\n",
       "      <td>29794</td>\n",
       "      <td>17940</td>\n",
       "      <td>...</td>\n",
       "      <td></td>\n",
       "      <td>.797</td>\n",
       "      <td>33.5</td>\n",
       "      <td>20.2</td>\n",
       "      <td>4.4</td>\n",
       "      <td>2.7</td>\n",
       "      <td>81.0</td>\n",
       "      <td>.131</td>\n",
       "      <td>0.1</td>\n",
       "      <td>5.9</td>\n",
       "    </tr>\n",
       "    <tr>\n",
       "      <th>4</th>\n",
       "      <td>1966</td>\n",
       "      <td>5</td>\n",
       "      <td>5</td>\n",
       "      <td>BAL</td>\n",
       "      <td>Jack Marin</td>\n",
       "      <td>Duke University</td>\n",
       "      <td>11</td>\n",
       "      <td>849</td>\n",
       "      <td>24590</td>\n",
       "      <td>12541</td>\n",
       "      <td>...</td>\n",
       "      <td></td>\n",
       "      <td>.843</td>\n",
       "      <td>29.0</td>\n",
       "      <td>14.8</td>\n",
       "      <td>5.2</td>\n",
       "      <td>2.1</td>\n",
       "      <td>59.3</td>\n",
       "      <td>.116</td>\n",
       "      <td>-2.8</td>\n",
       "      <td>-1.4</td>\n",
       "    </tr>\n",
       "  </tbody>\n",
       "</table>\n",
       "<p>5 rows × 23 columns</p>\n",
       "</div>"
      ],
      "text/plain": [
       "   Draft_Yr Rk Pk   Tm          Player                  College Yrs    G  \\\n",
       "0      1966  1  1  NYK  Cazzie Russell   University of Michigan  12  817   \n",
       "1      1966  2  2  DET       Dave Bing      Syracuse University  12  901   \n",
       "2      1966  3  3  SFW       Clyde Lee    Vanderbilt University  10  742   \n",
       "3      1966  4  4  STL      Lou Hudson  University of Minnesota  13  890   \n",
       "4      1966  5  5  BAL      Jack Marin          Duke University  11  849   \n",
       "\n",
       "      MP    PTS  ...  3P%   FT%    MP   PTS   TRB  AST    WS WS/48   BPM  VORP  \n",
       "0  22213  12377  ...       .827  27.2  15.1   3.8  2.2  51.7  .112  -2.0   0.1  \n",
       "1  32769  18327  ...       .775  36.4  20.3   3.8  6.0  68.8  .101   0.6   8.5  \n",
       "2  19885   5733  ...       .614  26.8   7.7  10.3  1.1  33.5  .081  -2.4  -0.6  \n",
       "3  29794  17940  ...       .797  33.5  20.2   4.4  2.7  81.0  .131   0.1   5.9  \n",
       "4  24590  12541  ...       .843  29.0  14.8   5.2  2.1  59.3  .116  -2.8  -1.4  \n",
       "\n",
       "[5 rows x 23 columns]"
      ]
     },
     "execution_count": 34,
     "metadata": {},
     "output_type": "execute_result"
    }
   ],
   "source": [
    "draft_df.head()"
   ]
  },
  {
   "cell_type": "code",
   "execution_count": 35,
   "metadata": {
    "collapsed": false,
    "scrolled": true
   },
   "outputs": [
    {
     "data": {
      "text/html": [
       "<div>\n",
       "<table border=\"1\" class=\"dataframe\">\n",
       "  <thead>\n",
       "    <tr style=\"text-align: right;\">\n",
       "      <th></th>\n",
       "      <th>Draft_Yr</th>\n",
       "      <th>Rk</th>\n",
       "      <th>Pk</th>\n",
       "      <th>Tm</th>\n",
       "      <th>Player</th>\n",
       "      <th>College</th>\n",
       "      <th>Yrs</th>\n",
       "      <th>G</th>\n",
       "      <th>MP</th>\n",
       "      <th>PTS</th>\n",
       "      <th>...</th>\n",
       "      <th>3P%</th>\n",
       "      <th>FT%</th>\n",
       "      <th>MP</th>\n",
       "      <th>PTS</th>\n",
       "      <th>TRB</th>\n",
       "      <th>AST</th>\n",
       "      <th>WS</th>\n",
       "      <th>WS/48</th>\n",
       "      <th>BPM</th>\n",
       "      <th>VORP</th>\n",
       "    </tr>\n",
       "  </thead>\n",
       "  <tbody>\n",
       "    <tr>\n",
       "      <th>6445</th>\n",
       "      <td>2014</td>\n",
       "      <td>56</td>\n",
       "      <td>56</td>\n",
       "      <td>DEN</td>\n",
       "      <td>Roy Devyn Marble</td>\n",
       "      <td>University of Iowa</td>\n",
       "      <td>1</td>\n",
       "      <td>16</td>\n",
       "      <td>208</td>\n",
       "      <td>37</td>\n",
       "      <td>...</td>\n",
       "      <td>.182</td>\n",
       "      <td>.313</td>\n",
       "      <td>13.0</td>\n",
       "      <td>2.3</td>\n",
       "      <td>1.9</td>\n",
       "      <td>1.1</td>\n",
       "      <td>-0.1</td>\n",
       "      <td>-.031</td>\n",
       "      <td>-4.5</td>\n",
       "      <td>-0.1</td>\n",
       "    </tr>\n",
       "    <tr>\n",
       "      <th>6446</th>\n",
       "      <td>2014</td>\n",
       "      <td>57</td>\n",
       "      <td>57</td>\n",
       "      <td>IND</td>\n",
       "      <td>Louis Labeyrie</td>\n",
       "      <td></td>\n",
       "      <td></td>\n",
       "      <td></td>\n",
       "      <td></td>\n",
       "      <td></td>\n",
       "      <td>...</td>\n",
       "      <td></td>\n",
       "      <td></td>\n",
       "      <td></td>\n",
       "      <td></td>\n",
       "      <td></td>\n",
       "      <td></td>\n",
       "      <td></td>\n",
       "      <td></td>\n",
       "      <td></td>\n",
       "      <td></td>\n",
       "    </tr>\n",
       "    <tr>\n",
       "      <th>6447</th>\n",
       "      <td>2014</td>\n",
       "      <td>58</td>\n",
       "      <td>58</td>\n",
       "      <td>SAS</td>\n",
       "      <td>Jordan McRae</td>\n",
       "      <td>University of Tennessee</td>\n",
       "      <td></td>\n",
       "      <td></td>\n",
       "      <td></td>\n",
       "      <td></td>\n",
       "      <td>...</td>\n",
       "      <td></td>\n",
       "      <td></td>\n",
       "      <td></td>\n",
       "      <td></td>\n",
       "      <td></td>\n",
       "      <td></td>\n",
       "      <td></td>\n",
       "      <td></td>\n",
       "      <td></td>\n",
       "      <td></td>\n",
       "    </tr>\n",
       "    <tr>\n",
       "      <th>6448</th>\n",
       "      <td>2014</td>\n",
       "      <td>59</td>\n",
       "      <td>59</td>\n",
       "      <td>TOR</td>\n",
       "      <td>Xavier Thames</td>\n",
       "      <td>San Diego State University</td>\n",
       "      <td></td>\n",
       "      <td></td>\n",
       "      <td></td>\n",
       "      <td></td>\n",
       "      <td>...</td>\n",
       "      <td></td>\n",
       "      <td></td>\n",
       "      <td></td>\n",
       "      <td></td>\n",
       "      <td></td>\n",
       "      <td></td>\n",
       "      <td></td>\n",
       "      <td></td>\n",
       "      <td></td>\n",
       "      <td></td>\n",
       "    </tr>\n",
       "    <tr>\n",
       "      <th>6449</th>\n",
       "      <td>2014</td>\n",
       "      <td>60</td>\n",
       "      <td>60</td>\n",
       "      <td>SAS</td>\n",
       "      <td>Cory Jefferson</td>\n",
       "      <td>Baylor University</td>\n",
       "      <td>1</td>\n",
       "      <td>50</td>\n",
       "      <td>531</td>\n",
       "      <td>183</td>\n",
       "      <td>...</td>\n",
       "      <td>.133</td>\n",
       "      <td>.574</td>\n",
       "      <td>10.6</td>\n",
       "      <td>3.7</td>\n",
       "      <td>2.9</td>\n",
       "      <td>0.3</td>\n",
       "      <td>0.8</td>\n",
       "      <td>.071</td>\n",
       "      <td>-3.7</td>\n",
       "      <td>-0.2</td>\n",
       "    </tr>\n",
       "  </tbody>\n",
       "</table>\n",
       "<p>5 rows × 23 columns</p>\n",
       "</div>"
      ],
      "text/plain": [
       "      Draft_Yr  Rk  Pk   Tm            Player                     College Yrs  \\\n",
       "6445      2014  56  56  DEN  Roy Devyn Marble          University of Iowa   1   \n",
       "6446      2014  57  57  IND    Louis Labeyrie                                   \n",
       "6447      2014  58  58  SAS      Jordan McRae     University of Tennessee       \n",
       "6448      2014  59  59  TOR     Xavier Thames  San Diego State University       \n",
       "6449      2014  60  60  SAS    Cory Jefferson           Baylor University   1   \n",
       "\n",
       "       G   MP  PTS  ...    3P%   FT%    MP  PTS  TRB  AST    WS  WS/48   BPM  \\\n",
       "6445  16  208   37  ...   .182  .313  13.0  2.3  1.9  1.1  -0.1  -.031  -4.5   \n",
       "6446                ...                                                        \n",
       "6447                ...                                                        \n",
       "6448                ...                                                        \n",
       "6449  50  531  183  ...   .133  .574  10.6  3.7  2.9  0.3   0.8   .071  -3.7   \n",
       "\n",
       "      VORP  \n",
       "6445  -0.1  \n",
       "6446        \n",
       "6447        \n",
       "6448        \n",
       "6449  -0.2  \n",
       "\n",
       "[5 rows x 23 columns]"
      ]
     },
     "execution_count": 35,
     "metadata": {},
     "output_type": "execute_result"
    }
   ],
   "source": [
    "draft_df.tail()"
   ]
  },
  {
   "cell_type": "markdown",
   "metadata": {
    "collapsed": false
   },
   "source": [
    "###Now we clean"
   ]
  },
  {
   "cell_type": "code",
   "execution_count": 36,
   "metadata": {
    "collapsed": false
   },
   "outputs": [],
   "source": [
    "# Convert data to proper data types\n",
    "draft_df = draft_df.convert_objects(convert_numeric=True)\n",
    "\n",
    "# Get rid of the rows full of null values\n",
    "draft_df = draft_df[draft_df.Player.notnull()]\n",
    "\n",
    "# Replace NaNs with 0s\n",
    "draft_df = draft_df.fillna(0)\n",
    "\n",
    "# Rename Columns\n",
    "draft_df.rename(columns={'WS/48':'WS_per_48'}, inplace=True)\n",
    "# Change % symbol\n",
    "draft_df.columns = draft_df.columns.str.replace('%', '_Perc')\n",
    "# Add per_G to per game stats\n",
    "draft_df.columns.values[15:19] = [draft_df.columns.values[15:19][col] + \n",
    "                                  \"_per_G\" for col in range(4)]\n",
    "\n",
    "# Changing the Data Types to int\n",
    "draft_df.loc[:,'Yrs':'AST'] = draft_df.loc[:,'Yrs':'AST'].astype(int)\n",
    "\n",
    "# Delete the 'Rk' column\n",
    "draft_df.drop('Rk', axis='columns', inplace=True)"
   ]
  },
  {
   "cell_type": "markdown",
   "metadata": {},
   "source": [
    "Let's see how our data looks now."
   ]
  },
  {
   "cell_type": "code",
   "execution_count": 37,
   "metadata": {
    "collapsed": false
   },
   "outputs": [
    {
     "data": {
      "text/plain": [
       "Draft_Yr       int64\n",
       "Pk           float64\n",
       "Tm            object\n",
       "Player        object\n",
       "College       object\n",
       "Yrs            int64\n",
       "G              int64\n",
       "MP             int64\n",
       "PTS            int64\n",
       "TRB            int64\n",
       "AST            int64\n",
       "FG_Perc      float64\n",
       "3P_Perc      float64\n",
       "FT_Perc      float64\n",
       "MP_per_G     float64\n",
       "PTS_per_G    float64\n",
       "TRB_per_G    float64\n",
       "AST_per_G    float64\n",
       "WS           float64\n",
       "WS_per_48    float64\n",
       "BPM          float64\n",
       "VORP         float64\n",
       "dtype: object"
      ]
     },
     "execution_count": 37,
     "metadata": {},
     "output_type": "execute_result"
    }
   ],
   "source": [
    "draft_df.dtypes"
   ]
  },
  {
   "cell_type": "code",
   "execution_count": 38,
   "metadata": {
    "collapsed": true
   },
   "outputs": [],
   "source": [
    "draft_df['Pk'] = draft_df['Pk'].astype(int) # change Pk to int"
   ]
  },
  {
   "cell_type": "code",
   "execution_count": 39,
   "metadata": {
    "collapsed": false
   },
   "outputs": [
    {
     "data": {
      "text/plain": [
       "Draft_Yr       int64\n",
       "Pk             int64\n",
       "Tm            object\n",
       "Player        object\n",
       "College       object\n",
       "Yrs            int64\n",
       "G              int64\n",
       "MP             int64\n",
       "PTS            int64\n",
       "TRB            int64\n",
       "AST            int64\n",
       "FG_Perc      float64\n",
       "3P_Perc      float64\n",
       "FT_Perc      float64\n",
       "MP_per_G     float64\n",
       "PTS_per_G    float64\n",
       "TRB_per_G    float64\n",
       "AST_per_G    float64\n",
       "WS           float64\n",
       "WS_per_48    float64\n",
       "BPM          float64\n",
       "VORP         float64\n",
       "dtype: object"
      ]
     },
     "execution_count": 39,
     "metadata": {},
     "output_type": "execute_result"
    }
   ],
   "source": [
    "draft_df.dtypes"
   ]
  },
  {
   "cell_type": "code",
   "execution_count": 40,
   "metadata": {
    "collapsed": false
   },
   "outputs": [
    {
     "data": {
      "text/plain": [
       "Draft_Yr     0\n",
       "Pk           0\n",
       "Tm           0\n",
       "Player       0\n",
       "College      0\n",
       "Yrs          0\n",
       "G            0\n",
       "MP           0\n",
       "PTS          0\n",
       "TRB          0\n",
       "AST          0\n",
       "FG_Perc      0\n",
       "3P_Perc      0\n",
       "FT_Perc      0\n",
       "MP_per_G     0\n",
       "PTS_per_G    0\n",
       "TRB_per_G    0\n",
       "AST_per_G    0\n",
       "WS           0\n",
       "WS_per_48    0\n",
       "BPM          0\n",
       "VORP         0\n",
       "dtype: int64"
      ]
     },
     "execution_count": 40,
     "metadata": {},
     "output_type": "execute_result"
    }
   ],
   "source": [
    "draft_df.isnull().sum() # No missing values in our DataFrame"
   ]
  },
  {
   "cell_type": "markdown",
   "metadata": {},
   "source": [
    "## Writing Out Data to a CSV File\n",
    "Using the `to_csv()` method we can easily write out our `DataFrame` to a csv file."
   ]
  },
  {
   "cell_type": "code",
   "execution_count": 41,
   "metadata": {
    "collapsed": true
   },
   "outputs": [],
   "source": [
    "draft_df.to_csv(\"draft_data_1966_to_2014.csv\")"
   ]
  },
  {
   "cell_type": "markdown",
   "metadata": {},
   "source": [
    "Finally, lets print out the version of Python and versions of the libraries we used."
   ]
  },
  {
   "cell_type": "code",
   "execution_count": 42,
   "metadata": {
    "collapsed": true
   },
   "outputs": [],
   "source": [
    "# sys allows us to get the info for the version of Python we use\n",
    "import sys\n",
    "import urllib.request\n",
    "import bs4"
   ]
  },
  {
   "cell_type": "code",
   "execution_count": 43,
   "metadata": {
    "collapsed": false
   },
   "outputs": [
    {
     "name": "stdout",
     "output_type": "stream",
     "text": [
      "Python version: sys.version_info(major=3, minor=4, micro=3, releaselevel='final', serial=0)\n",
      "Urllib.request version: 3.4\n",
      "BeautifulSoup version: 4.3.2\n",
      "Pandas version: 0.16.2\n"
     ]
    }
   ],
   "source": [
    "print('Python version:', sys.version_info)\n",
    "print('Urllib.request version:', urllib.request.__version__)\n",
    "print('BeautifulSoup version:', bs4.__version__)\n",
    "print('Pandas version:', pd.__version__)"
   ]
  },
  {
   "cell_type": "markdown",
   "metadata": {},
   "source": [
    "You can find the ipython notebook and data for this post [here](https://github.com/savvastj/NBA_stuff)."
   ]
  }
 ],
 "metadata": {
  "kernelspec": {
   "display_name": "Python 3",
   "language": "python",
   "name": "python3"
  },
  "language_info": {
   "codemirror_mode": {
    "name": "ipython",
    "version": 3
   },
   "file_extension": ".py",
   "mimetype": "text/x-python",
   "name": "python",
   "nbconvert_exporter": "python",
   "pygments_lexer": "ipython3",
   "version": "3.4.3"
  }
 },
 "nbformat": 4,
 "nbformat_minor": 0
}
